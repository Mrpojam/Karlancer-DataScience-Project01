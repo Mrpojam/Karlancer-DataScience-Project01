{
 "cells": [
  {
   "cell_type": "code",
   "execution_count": 76,
   "id": "55cb4f7a",
   "metadata": {},
   "outputs": [],
   "source": [
    "import numpy as np\n",
    "import pandas as pd\n",
    "import matplotlib.pyplot as plt\n",
    "import seaborn as sns"
   ]
  },
  {
   "cell_type": "markdown",
   "id": "9152d21c",
   "metadata": {},
   "source": [
    "# خواندن داده"
   ]
  },
  {
   "cell_type": "code",
   "execution_count": 2,
   "id": "dbfe6dba",
   "metadata": {},
   "outputs": [
    {
     "data": {
      "text/html": [
       "<div>\n",
       "<style scoped>\n",
       "    .dataframe tbody tr th:only-of-type {\n",
       "        vertical-align: middle;\n",
       "    }\n",
       "\n",
       "    .dataframe tbody tr th {\n",
       "        vertical-align: top;\n",
       "    }\n",
       "\n",
       "    .dataframe thead th {\n",
       "        text-align: right;\n",
       "    }\n",
       "</style>\n",
       "<table border=\"1\" class=\"dataframe\">\n",
       "  <thead>\n",
       "    <tr style=\"text-align: right;\">\n",
       "      <th></th>\n",
       "      <th>AGE_DESC</th>\n",
       "      <th>MARITAL_STATUS_CODE</th>\n",
       "      <th>INCOME_DESC</th>\n",
       "      <th>HOMEOWNER_DESC</th>\n",
       "      <th>HH_COMP_DESC</th>\n",
       "      <th>HOUSEHOLD_SIZE_DESC</th>\n",
       "      <th>KID_CATEGORY_DESC</th>\n",
       "      <th>household_key</th>\n",
       "    </tr>\n",
       "  </thead>\n",
       "  <tbody>\n",
       "    <tr>\n",
       "      <th>0</th>\n",
       "      <td>65+</td>\n",
       "      <td>A</td>\n",
       "      <td>35-49K</td>\n",
       "      <td>Homeowner</td>\n",
       "      <td>2 Adults No Kids</td>\n",
       "      <td>2</td>\n",
       "      <td>None/Unknown</td>\n",
       "      <td>1</td>\n",
       "    </tr>\n",
       "    <tr>\n",
       "      <th>1</th>\n",
       "      <td>45-54</td>\n",
       "      <td>A</td>\n",
       "      <td>50-74K</td>\n",
       "      <td>Homeowner</td>\n",
       "      <td>2 Adults No Kids</td>\n",
       "      <td>2</td>\n",
       "      <td>None/Unknown</td>\n",
       "      <td>7</td>\n",
       "    </tr>\n",
       "    <tr>\n",
       "      <th>2</th>\n",
       "      <td>25-34</td>\n",
       "      <td>U</td>\n",
       "      <td>25-34K</td>\n",
       "      <td>Unknown</td>\n",
       "      <td>2 Adults Kids</td>\n",
       "      <td>3</td>\n",
       "      <td>1</td>\n",
       "      <td>8</td>\n",
       "    </tr>\n",
       "    <tr>\n",
       "      <th>3</th>\n",
       "      <td>25-34</td>\n",
       "      <td>U</td>\n",
       "      <td>75-99K</td>\n",
       "      <td>Homeowner</td>\n",
       "      <td>2 Adults Kids</td>\n",
       "      <td>4</td>\n",
       "      <td>2</td>\n",
       "      <td>13</td>\n",
       "    </tr>\n",
       "    <tr>\n",
       "      <th>4</th>\n",
       "      <td>45-54</td>\n",
       "      <td>B</td>\n",
       "      <td>50-74K</td>\n",
       "      <td>Homeowner</td>\n",
       "      <td>Single Female</td>\n",
       "      <td>1</td>\n",
       "      <td>None/Unknown</td>\n",
       "      <td>16</td>\n",
       "    </tr>\n",
       "  </tbody>\n",
       "</table>\n",
       "</div>"
      ],
      "text/plain": [
       "  AGE_DESC MARITAL_STATUS_CODE INCOME_DESC HOMEOWNER_DESC      HH_COMP_DESC  \\\n",
       "0      65+                   A      35-49K      Homeowner  2 Adults No Kids   \n",
       "1    45-54                   A      50-74K      Homeowner  2 Adults No Kids   \n",
       "2    25-34                   U      25-34K        Unknown     2 Adults Kids   \n",
       "3    25-34                   U      75-99K      Homeowner     2 Adults Kids   \n",
       "4    45-54                   B      50-74K      Homeowner     Single Female   \n",
       "\n",
       "  HOUSEHOLD_SIZE_DESC KID_CATEGORY_DESC  household_key  \n",
       "0                   2      None/Unknown              1  \n",
       "1                   2      None/Unknown              7  \n",
       "2                   3                 1              8  \n",
       "3                   4                 2             13  \n",
       "4                   1      None/Unknown             16  "
      ]
     },
     "execution_count": 2,
     "metadata": {},
     "output_type": "execute_result"
    }
   ],
   "source": [
    "data = pd.read_csv(\"Original Data/hh_demographic.csv\")\n",
    "data.head()"
   ]
  },
  {
   "cell_type": "code",
   "execution_count": 3,
   "id": "9ad1a02c",
   "metadata": {},
   "outputs": [
    {
     "name": "stdout",
     "output_type": "stream",
     "text": [
      "<class 'pandas.core.frame.DataFrame'>\n",
      "RangeIndex: 801 entries, 0 to 800\n",
      "Data columns (total 8 columns):\n",
      " #   Column               Non-Null Count  Dtype \n",
      "---  ------               --------------  ----- \n",
      " 0   AGE_DESC             801 non-null    object\n",
      " 1   MARITAL_STATUS_CODE  801 non-null    object\n",
      " 2   INCOME_DESC          801 non-null    object\n",
      " 3   HOMEOWNER_DESC       801 non-null    object\n",
      " 4   HH_COMP_DESC         801 non-null    object\n",
      " 5   HOUSEHOLD_SIZE_DESC  801 non-null    object\n",
      " 6   KID_CATEGORY_DESC    801 non-null    object\n",
      " 7   household_key        801 non-null    int64 \n",
      "dtypes: int64(1), object(7)\n",
      "memory usage: 50.2+ KB\n"
     ]
    }
   ],
   "source": [
    "data.info()"
   ]
  },
  {
   "cell_type": "code",
   "execution_count": 4,
   "id": "eccef560",
   "metadata": {
    "collapsed": true
   },
   "outputs": [
    {
     "data": {
      "text/plain": [
       "array([   1,    7,    8,   13,   16,   17,   18,   19,   20,   22,   25,\n",
       "         27,   31,   39,   40,   42,   43,   46,   48,   49,   52,   55,\n",
       "         56,   57,   58,   67,   71,   74,   77,   78,   80,   85,   86,\n",
       "         97,   98,  101,  104,  105,  109,  110,  113,  114,  117,  118,\n",
       "        119,  121,  123,  127,  131,  133,  134,  136,  139,  149,  155,\n",
       "        157,  158,  159,  161,  164,  165,  166,  170,  178,  184,  192,\n",
       "        193,  198,  201,  208,  209,  211,  212,  214,  216,  218,  219,\n",
       "        220,  221,  222,  230,  232,  235,  239,  242,  243,  248,  249,\n",
       "        250,  253,  256,  257,  263,  264,  276,  281,  282,  283,  289,\n",
       "        290,  294,  300,  301,  302,  304,  306,  309,  314,  317,  319,\n",
       "        321,  324,  325,  329,  332,  334,  346,  350,  351,  353,  354,\n",
       "        358,  361,  362,  367,  370,  371,  377,  378,  381,  383,  385,\n",
       "        386,  387,  389,  390,  391,  392,  395,  400,  404,  409,  410,\n",
       "        411,  412,  413,  417,  418,  426,  428,  432,  434,  437,  438,\n",
       "        441,  442,  443,  451,  454,  456,  458,  460,  462,  464,  469,\n",
       "        473,  483,  484,  485,  489,  490,  491,  492,  493,  510,  513,\n",
       "        518,  523,  526,  527,  534,  540,  542,  543,  546,  548,  553,\n",
       "        560,  567,  569,  574,  575,  576,  578,  582,  583,  586,  588,\n",
       "        593,  595,  596,  597,  598,  601,  605,  606,  607,  608,  609,\n",
       "        614,  621,  622,  623,  624,  630,  631,  644,  647,  660,  661,\n",
       "        670,  671,  672,  675,  680,  682,  685,  688,  690,  692,  693,\n",
       "        695,  696,  699,  706,  707,  708,  712,  714,  715,  716,  718,\n",
       "        722,  725,  731,  732,  733,  740,  741,  742,  748,  752,  753,\n",
       "        755,  761,  762,  764,  766,  768,  770,  771,  779,  784,  785,\n",
       "        786,  787,  788,  790,  797,  800,  802,  803,  806,  808,  816,\n",
       "        817,  823,  825,  831,  840,  844,  845,  852,  853,  856,  857,\n",
       "        859,  863,  864,  865,  866,  867,  868,  871,  875,  878,  879,\n",
       "        882,  883,  886,  888,  889,  895,  898,  900,  903,  906,  908,\n",
       "        911,  914,  915,  920,  922,  926,  929,  932,  934,  939,  941,\n",
       "        946,  947,  949,  955,  956,  960,  968,  971,  973,  976,  979,\n",
       "        981,  982,  983,  986,  992,  993,  996,  997, 1001, 1003, 1004,\n",
       "       1012, 1014, 1015, 1018, 1020, 1021, 1024, 1031, 1038, 1040, 1041,\n",
       "       1042, 1045, 1053, 1057, 1060, 1062, 1066, 1069, 1070, 1074, 1076,\n",
       "       1081, 1082, 1084, 1091, 1094, 1103, 1113, 1120, 1123, 1128, 1130,\n",
       "       1131, 1135, 1137, 1138, 1142, 1146, 1147, 1151, 1154, 1158, 1159,\n",
       "       1160, 1163, 1164, 1166, 1167, 1169, 1172, 1174, 1175, 1178, 1179,\n",
       "       1186, 1188, 1190, 1197, 1218, 1219, 1222, 1226, 1228, 1229, 1234,\n",
       "       1236, 1240, 1247, 1248, 1256, 1257, 1258, 1260, 1261, 1263, 1264,\n",
       "       1267, 1268, 1270, 1272, 1285, 1291, 1296, 1297, 1299, 1300, 1305,\n",
       "       1306, 1316, 1318, 1321, 1326, 1333, 1337, 1352, 1354, 1357, 1363,\n",
       "       1364, 1367, 1369, 1370, 1376, 1378, 1382, 1388, 1389, 1391, 1393,\n",
       "       1394, 1396, 1397, 1402, 1412, 1418, 1419, 1421, 1423, 1425, 1428,\n",
       "       1429, 1430, 1437, 1438, 1443, 1445, 1451, 1452, 1453, 1454, 1461,\n",
       "       1462, 1467, 1468, 1470, 1474, 1475, 1479, 1481, 1483, 1484, 1485,\n",
       "       1488, 1491, 1492, 1494, 1499, 1505, 1509, 1517, 1524, 1527, 1528,\n",
       "       1529, 1534, 1536, 1537, 1540, 1541, 1545, 1549, 1556, 1557, 1563,\n",
       "       1566, 1567, 1568, 1572, 1578, 1580, 1585, 1588, 1591, 1595, 1604,\n",
       "       1609, 1618, 1627, 1631, 1633, 1634, 1648, 1649, 1650, 1653, 1662,\n",
       "       1676, 1677, 1678, 1680, 1686, 1689, 1692, 1693, 1694, 1695, 1696,\n",
       "       1707, 1708, 1709, 1710, 1720, 1722, 1726, 1740, 1745, 1748, 1749,\n",
       "       1751, 1753, 1759, 1762, 1764, 1765, 1775, 1778, 1779, 1785, 1788,\n",
       "       1791, 1795, 1796, 1797, 1800, 1802, 1803, 1804, 1812, 1814, 1815,\n",
       "       1816, 1820, 1822, 1823, 1829, 1831, 1833, 1834, 1841, 1844, 1845,\n",
       "       1847, 1848, 1850, 1858, 1861, 1864, 1865, 1869, 1873, 1879, 1892,\n",
       "       1894, 1896, 1899, 1901, 1907, 1911, 1914, 1917, 1919, 1920, 1921,\n",
       "       1923, 1926, 1927, 1928, 1929, 1931, 1935, 1937, 1939, 1944, 1946,\n",
       "       1948, 1949, 1953, 1955, 1962, 1964, 1965, 1975, 1976, 1979, 1980,\n",
       "       1982, 1985, 1989, 1990, 1995, 1997, 2002, 2004, 2006, 2007, 2011,\n",
       "       2012, 2013, 2017, 2018, 2020, 2023, 2024, 2030, 2040, 2041, 2050,\n",
       "       2053, 2057, 2058, 2062, 2063, 2064, 2068, 2069, 2070, 2076, 2082,\n",
       "       2084, 2085, 2086, 2087, 2088, 2092, 2094, 2097, 2100, 2102, 2107,\n",
       "       2110, 2111, 2112, 2115, 2116, 2119, 2121, 2123, 2124, 2129, 2130,\n",
       "       2133, 2134, 2140, 2147, 2148, 2154, 2156, 2158, 2162, 2168, 2172,\n",
       "       2173, 2179, 2181, 2182, 2183, 2184, 2185, 2186, 2188, 2190, 2193,\n",
       "       2194, 2198, 2199, 2200, 2203, 2208, 2209, 2217, 2221, 2224, 2231,\n",
       "       2233, 2234, 2235, 2237, 2243, 2250, 2252, 2254, 2260, 2264, 2266,\n",
       "       2269, 2272, 2279, 2280, 2282, 2284, 2292, 2294, 2295, 2296, 2298,\n",
       "       2300, 2302, 2305, 2307, 2312, 2314, 2317, 2318, 2322, 2324, 2328,\n",
       "       2330, 2331, 2334, 2337, 2341, 2342, 2343, 2347, 2351, 2359, 2360,\n",
       "       2361, 2364, 2367, 2370, 2374, 2376, 2378, 2380, 2390, 2393, 2397,\n",
       "       2400, 2405, 2406, 2407, 2411, 2420, 2421, 2426, 2427, 2432, 2435,\n",
       "       2437, 2445, 2446, 2447, 2448, 2449, 2453, 2455, 2465, 2467, 2479,\n",
       "       2483, 2486, 2488, 2489, 2494, 2496, 2497, 2498, 2499], dtype=int64)"
      ]
     },
     "execution_count": 4,
     "metadata": {},
     "output_type": "execute_result"
    }
   ],
   "source": [
    "households = data['household_key'].unique()\n",
    "households"
   ]
  },
  {
   "cell_type": "markdown",
   "id": "0d6ad91c",
   "metadata": {},
   "source": [
    "# ساخت داده جدید"
   ]
  },
  {
   "cell_type": "code",
   "execution_count": 30,
   "id": "e9e91392",
   "metadata": {},
   "outputs": [],
   "source": [
    "house_data = {}\n",
    "for house in households:\n",
    "    tmp = pd.read_csv(f'Data/data_{house}.csv')\n",
    "    avg = np.average(tmp['value'])\n",
    "    house_data[house] = avg"
   ]
  },
  {
   "cell_type": "code",
   "execution_count": 31,
   "id": "e086b9f0",
   "metadata": {},
   "outputs": [
    {
     "data": {
      "text/plain": [
       "801"
      ]
     },
     "execution_count": 31,
     "metadata": {},
     "output_type": "execute_result"
    }
   ],
   "source": [
    "len(house_data)"
   ]
  },
  {
   "cell_type": "code",
   "execution_count": 70,
   "id": "faddfe6e",
   "metadata": {},
   "outputs": [],
   "source": [
    "new_data = pd.DataFrame(columns=['key', 'age', 'income', 'size', 'kid', 'avg'])"
   ]
  },
  {
   "cell_type": "code",
   "execution_count": 72,
   "id": "24764431",
   "metadata": {},
   "outputs": [
    {
     "data": {
      "text/html": [
       "<div>\n",
       "<style scoped>\n",
       "    .dataframe tbody tr th:only-of-type {\n",
       "        vertical-align: middle;\n",
       "    }\n",
       "\n",
       "    .dataframe tbody tr th {\n",
       "        vertical-align: top;\n",
       "    }\n",
       "\n",
       "    .dataframe thead th {\n",
       "        text-align: right;\n",
       "    }\n",
       "</style>\n",
       "<table border=\"1\" class=\"dataframe\">\n",
       "  <thead>\n",
       "    <tr style=\"text-align: right;\">\n",
       "      <th></th>\n",
       "      <th>key</th>\n",
       "      <th>age</th>\n",
       "      <th>income</th>\n",
       "      <th>size</th>\n",
       "      <th>kid</th>\n",
       "      <th>avg</th>\n",
       "    </tr>\n",
       "  </thead>\n",
       "  <tbody>\n",
       "    <tr>\n",
       "      <th>0</th>\n",
       "      <td>1</td>\n",
       "      <td>65</td>\n",
       "      <td>35</td>\n",
       "      <td>2</td>\n",
       "      <td>0</td>\n",
       "      <td>6.081685</td>\n",
       "    </tr>\n",
       "    <tr>\n",
       "      <th>0</th>\n",
       "      <td>7</td>\n",
       "      <td>45</td>\n",
       "      <td>50</td>\n",
       "      <td>2</td>\n",
       "      <td>0</td>\n",
       "      <td>4.775351</td>\n",
       "    </tr>\n",
       "    <tr>\n",
       "      <th>0</th>\n",
       "      <td>8</td>\n",
       "      <td>25</td>\n",
       "      <td>25</td>\n",
       "      <td>3</td>\n",
       "      <td>1</td>\n",
       "      <td>7.773834</td>\n",
       "    </tr>\n",
       "    <tr>\n",
       "      <th>0</th>\n",
       "      <td>13</td>\n",
       "      <td>25</td>\n",
       "      <td>75</td>\n",
       "      <td>4</td>\n",
       "      <td>2</td>\n",
       "      <td>18.526573</td>\n",
       "    </tr>\n",
       "    <tr>\n",
       "      <th>0</th>\n",
       "      <td>16</td>\n",
       "      <td>45</td>\n",
       "      <td>50</td>\n",
       "      <td>1</td>\n",
       "      <td>0</td>\n",
       "      <td>2.123624</td>\n",
       "    </tr>\n",
       "  </tbody>\n",
       "</table>\n",
       "</div>"
      ],
      "text/plain": [
       "  key age income size kid        avg\n",
       "0   1  65     35    2   0   6.081685\n",
       "0   7  45     50    2   0   4.775351\n",
       "0   8  25     25    3   1   7.773834\n",
       "0  13  25     75    4   2  18.526573\n",
       "0  16  45     50    1   0   2.123624"
      ]
     },
     "execution_count": 72,
     "metadata": {},
     "output_type": "execute_result"
    }
   ],
   "source": [
    "for index, row in data.iterrows():\n",
    "    key = int(row['household_key'])\n",
    "    age = int(row['AGE_DESC'][:2])\n",
    "    income = row['INCOME_DESC'][:2]\n",
    "    if income == 'Un':\n",
    "        income = 10\n",
    "    income = int(income)\n",
    "    size = int(row['HOUSEHOLD_SIZE_DESC'][:1])\n",
    "    k = row['KID_CATEGORY_DESC'][:1]\n",
    "    if k == 'N':\n",
    "        k = 0\n",
    "    k = int(k)\n",
    "    tmp = pd.DataFrame({'key': [key], 'age':[age], 'income':[income], 'size':[size], 'kid':[k], 'avg':[house_data[key]]})\n",
    "    new_data = new_data.append(tmp)\n",
    "    \n",
    "new_data.head()\n",
    "    "
   ]
  },
  {
   "cell_type": "code",
   "execution_count": 75,
   "id": "90507021",
   "metadata": {},
   "outputs": [
    {
     "name": "stdout",
     "output_type": "stream",
     "text": [
      "<class 'pandas.core.frame.DataFrame'>\n",
      "Int64Index: 801 entries, 0 to 0\n",
      "Data columns (total 6 columns):\n",
      " #   Column  Non-Null Count  Dtype  \n",
      "---  ------  --------------  -----  \n",
      " 0   key     801 non-null    object \n",
      " 1   age     801 non-null    int64  \n",
      " 2   income  801 non-null    int64  \n",
      " 3   size    801 non-null    int64  \n",
      " 4   kid     801 non-null    int64  \n",
      " 5   avg     801 non-null    float64\n",
      "dtypes: float64(1), int64(4), object(1)\n",
      "memory usage: 43.8+ KB\n"
     ]
    }
   ],
   "source": [
    "new_data['age'] = pd.to_numeric(new_data['age'])\n",
    "new_data['income'] = pd.to_numeric(new_data['income'])\n",
    "new_data['size'] = pd.to_numeric(new_data['size'])\n",
    "new_data['kid'] = pd.to_numeric(new_data['kid'])\n",
    "new_data.info()"
   ]
  },
  {
   "cell_type": "markdown",
   "id": "3c7279da",
   "metadata": {},
   "source": [
    "# Corelation"
   ]
  },
  {
   "cell_type": "code",
   "execution_count": 77,
   "id": "5e3d639b",
   "metadata": {},
   "outputs": [
    {
     "data": {
      "image/png": "[encoded data removed]",
      "text/plain": [
       "<Figure size 432x288 with 2 Axes>"
      ]
     },
     "metadata": {
      "needs_background": "light"
     },
     "output_type": "display_data"
    }
   ],
   "source": [
    "dataplot = sns.heatmap(new_data.corr(), cmap=\"YlGnBu\", annot=True)"
   ]
  },
  {
   "cell_type": "code",
   "execution_count": null,
   "id": "360b83cf",
   "metadata": {},
   "outputs": [],
   "source": []
  }
 ],
 "metadata": {
  "kernelspec": {
   "display_name": "Python 3",
   "language": "python",
   "name": "python3"
  },
  "language_info": {
   "codemirror_mode": {
    "name": "ipython",
    "version": 3
   },
   "file_extension": ".py",
   "mimetype": "text/x-python",
   "name": "python",
   "nbconvert_exporter": "python",
   "pygments_lexer": "ipython3",
   "version": "3.8.8"
  }
 },
 "nbformat": 4,
 "nbformat_minor": 5
}
